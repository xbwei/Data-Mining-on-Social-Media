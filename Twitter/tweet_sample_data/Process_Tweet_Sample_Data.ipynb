{
 "cells": [
  {
   "cell_type": "code",
   "execution_count": null,
   "id": "b16d6df8",
   "metadata": {},
   "outputs": [],
   "source": [
    "from pymongo import MongoClient\n",
    "client = MongoClient(\"localhost\", 27017)"
   ]
  },
  {
   "cell_type": "code",
   "execution_count": null,
   "id": "115a8d96",
   "metadata": {},
   "outputs": [],
   "source": [
    "from pprint import pprint\n",
    "from tqdm.notebook import tqdm\n",
    "from bson.json_util import dumps\n",
    "import json"
   ]
  },
  {
   "cell_type": "code",
   "execution_count": null,
   "id": "76d620a4",
   "metadata": {},
   "outputs": [],
   "source": [
    "db = client.tweet"
   ]
  },
  {
   "cell_type": "code",
   "execution_count": null,
   "id": "15532279",
   "metadata": {},
   "outputs": [],
   "source": [
    "print(db)"
   ]
  },
  {
   "cell_type": "code",
   "execution_count": null,
   "id": "68a6bff8",
   "metadata": {
    "scrolled": false
   },
   "outputs": [],
   "source": [
    "for collection in db.list_collection_names():\n",
    "#     if collection !='tweet_gun' and collection !='tweet_election':\n",
    "#         db[collection].drop()\n",
    "    print(collection)\n",
    "\n",
    "states = [ 'AK', 'AL', 'AR', 'AZ', 'CA', 'CO', 'CT', 'DC', 'DE', 'FL', 'GA',\n",
    "           'HI', 'IA', 'ID', 'IL', 'IN', 'KS', 'KY', 'LA', 'MA', 'MD', 'ME',\n",
    "           'MI', 'MN', 'MO', 'MS', 'MT', 'NC', 'ND', 'NE', 'NH', 'NJ', 'NM',\n",
    "           'NV', 'NY', 'OH', 'OK', 'OR', 'PA', 'RI', 'SC', 'SD', 'TN', 'TX',\n",
    "           'UT', 'VA', 'VT', 'WA', 'WI', 'WV', 'WY']"
   ]
  },
  {
   "cell_type": "code",
   "execution_count": null,
   "id": "140c1e31",
   "metadata": {},
   "outputs": [],
   "source": [
    "db.tweet_gun.create_index('place.contry_code')"
   ]
  },
  {
   "cell_type": "code",
   "execution_count": null,
   "id": "f3db48f0",
   "metadata": {},
   "outputs": [],
   "source": [
    "documents =db.tweet_gun.find({'place.country_code':'US'})\n",
    "# print(len(list(documents)))"
   ]
  },
  {
   "cell_type": "code",
   "execution_count": null,
   "id": "db5def1b",
   "metadata": {
    "scrolled": true
   },
   "outputs": [],
   "source": [
    "for document in tqdm(documents):\n",
    "    try:\n",
    "        state= document['place']['full_name'].split(',')[1].strip()\n",
    "        if state in states:\n",
    "            db[f'{state}_gun'].insert_one(document)\n",
    "#             print(state)\n",
    "    except:\n",
    "        pass"
   ]
  },
  {
   "cell_type": "code",
   "execution_count": null,
   "id": "fbb7d47d",
   "metadata": {
    "scrolled": false
   },
   "outputs": [],
   "source": [
    "print('|State|Number of Documents|')\n",
    "print('|----|----|')\n",
    "for collection in db.list_collection_names():\n",
    "\n",
    "    if 'gun' in collection:\n",
    "        print ('|',collection[:2],'|',db[collection].estimated_document_count(),'|')"
   ]
  },
  {
   "cell_type": "code",
   "execution_count": null,
   "id": "1a37998d",
   "metadata": {},
   "outputs": [],
   "source": [
    "for collection in tqdm(db.list_collection_names()):\n",
    "    cursor = db[collection].find({})\n",
    "    with open(f'{collection}.json', 'w') as file:\n",
    "        json.dump(json.loads(dumps(cursor)), file)\n"
   ]
  }
 ],
 "metadata": {
  "kernelspec": {
   "display_name": "Python 3 (ipykernel)",
   "language": "python",
   "name": "python3"
  },
  "language_info": {
   "codemirror_mode": {
    "name": "ipython",
    "version": 3
   },
   "file_extension": ".py",
   "mimetype": "text/x-python",
   "name": "python",
   "nbconvert_exporter": "python",
   "pygments_lexer": "ipython3",
   "version": "3.9.16"
  }
 },
 "nbformat": 4,
 "nbformat_minor": 5
}
